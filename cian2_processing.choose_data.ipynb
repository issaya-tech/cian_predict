{
 "cells": [
  {
   "metadata": {},
   "cell_type": "markdown",
   "source": "### Обработка, чистка, добавление необходимой информации в массив.",
   "id": "78967dad1fd0a14b"
  },
  {
   "metadata": {
    "ExecuteTime": {
     "end_time": "2025-03-26T00:52:06.179415Z",
     "start_time": "2025-03-26T00:52:06.174919Z"
    }
   },
   "cell_type": "code",
   "source": [
    "from math import floor\n",
    "import numpy as np\n",
    "import pandas as pd\n",
    "import re"
   ],
   "id": "199dc93d89d5165f",
   "outputs": [],
   "execution_count": 77
  },
  {
   "cell_type": "code",
   "id": "initial_id",
   "metadata": {
    "collapsed": true,
    "ExecuteTime": {
     "end_time": "2025-03-26T00:52:07.264810Z",
     "start_time": "2025-03-26T00:52:06.552776Z"
    }
   },
   "source": [
    "# загрузка данных, которые были спарсины с помощью кода из 1 части\n",
    "cian = pd.read_csv('/Users/issaya/Downloads/offers_data.csv', low_memory=False)"
   ],
   "outputs": [],
   "execution_count": 78
  },
  {
   "metadata": {
    "ExecuteTime": {
     "end_time": "2025-03-26T00:52:07.433970Z",
     "start_time": "2025-03-26T00:52:07.418569Z"
    }
   },
   "cell_type": "code",
   "source": [
    "# достаем район из столбца 'address'\n",
    "def extract_district(address):\n",
    "    match = re.search(r'р-н ([^,]+)', address)  # Ищем текст после \"р-н\" и до запятой\n",
    "    if match:\n",
    "        return match.group(1)\n",
    "    return None  # Если не найдено, возвращаем None\n",
    "\n",
    "\n",
    "# Применяем функцию к столбцу\n",
    "cian['district'] = cian['address'].apply(extract_district)"
   ],
   "id": "d4accdd6a108dad8",
   "outputs": [],
   "execution_count": 79
  },
  {
   "metadata": {
    "ExecuteTime": {
     "end_time": "2025-03-26T00:52:08.058296Z",
     "start_time": "2025-03-26T00:52:08.035513Z"
    }
   },
   "cell_type": "code",
   "source": [
    "# приводим кол-во комнат в числовой формат\n",
    "def clean_room(room):\n",
    "    # Проверка на \"roomN\", где N от 1 до 6\n",
    "    match = re.match(r'room(\\d)', room)\n",
    "    if match:\n",
    "        N = int(match.group(1))\n",
    "        if 1 <= N <= 6:\n",
    "            return N  # Возвращаем количество комнат\n",
    "        elif N == 7:\n",
    "            return -1\n",
    "        elif N == 9:\n",
    "            return 0\n",
    "    return room  # Если значение не подходит, возвращаем оригинальное\n",
    "\n",
    "# Применяем функцию к столбцу room\n",
    "cian['кол-во комнат'] = cian['room'].apply(clean_room)\n",
    "# если студия, то кол-во комнат 0, если свободная планировка, то кол-во комнат -1"
   ],
   "id": "343e61d24cf70605",
   "outputs": [],
   "execution_count": 80
  },
  {
   "metadata": {
    "ExecuteTime": {
     "end_time": "2025-03-26T00:52:08.728985Z",
     "start_time": "2025-03-26T00:52:08.709550Z"
    }
   },
   "cell_type": "code",
   "source": [
    "# переводим минуты на транспорте в минуты пешком через коэффициент\n",
    "def process_time(row):\n",
    "    if isinstance(row, str):\n",
    "        words = row.split()\n",
    "        time_value = int(words[0]) \n",
    "        last_word = words[-1] \n",
    "\n",
    "        # Если последнее слово \"транспорте\", умножаем на 0.15\n",
    "        if last_word == \"транспорте\":\n",
    "            return time_value * 0.15\n",
    "        else:\n",
    "            return time_value\n",
    "    else:\n",
    "        # Если это не строка, просто возвращаем значение\n",
    "        return row\n",
    "\n",
    "# Применяем функцию к столбцу\n",
    "cian['время до метро (мин)'] = cian['metro_distance'].apply(process_time)"
   ],
   "id": "89cfff2bd68a9b4c",
   "outputs": [],
   "execution_count": 81
  },
  {
   "metadata": {
    "ExecuteTime": {
     "end_time": "2025-03-26T00:52:09.235445Z",
     "start_time": "2025-03-26T00:52:09.224364Z"
    }
   },
   "cell_type": "code",
   "source": "cian = cian.drop(['subtitle', 'metro_distance','rooms_count', 'seller_name', 'room', 'address'], axis=1)",
   "id": "54c5b5702b13a5d0",
   "outputs": [],
   "execution_count": 82
  },
  {
   "metadata": {
    "ExecuteTime": {
     "end_time": "2025-03-26T00:52:10.009039Z",
     "start_time": "2025-03-26T00:52:09.899649Z"
    }
   },
   "cell_type": "code",
   "source": [
    "# заменяем пустые значения при помощи формул\n",
    "cian['floor'] = cian.groupby('metro')['floor'].transform(lambda x: x.fillna(x.mean()))\n",
    "cian['total_floors'] = cian.groupby('metro')['total_floors'].transform(lambda x: x.fillna(x.mean()))\n",
    "cian['area'] = cian.groupby('metro')['area'].transform(lambda x: x.fillna(x.mean()))\n",
    "cian['area'] = cian['area'].fillna(cian['area'].mean())\n",
    "cian['property_type'] = cian['property_type'].fillna(cian['property_type'].mode()[0])\n",
    "cian['seller_type'] = cian['seller_type'].fillna(\"Нет данных\")\n",
    "cian['zhk_name'] = cian['zhk_name'].fillna(\"Нет данных\")\n",
    "cian['description'] = cian['description'].fillna(\"Нет данных\")\n",
    "cian['время до метро (мин)'] = cian['время до метро (мин)'].fillna(cian['время до метро (мин)'].mean())"
   ],
   "id": "7ee8b754e0b72ec8",
   "outputs": [],
   "execution_count": 83
  },
  {
   "metadata": {
    "ExecuteTime": {
     "end_time": "2025-03-26T00:52:10.545048Z",
     "start_time": "2025-03-26T00:52:10.521958Z"
    }
   },
   "cell_type": "code",
   "source": [
    "# избавляемся от выброса\n",
    "cian = cian[cian['price_per_m2'] != 6646526]"
   ],
   "id": "f8ac4ec210ea4eff",
   "outputs": [],
   "execution_count": 84
  },
  {
   "metadata": {
    "ExecuteTime": {
     "end_time": "2025-03-26T00:52:11.096385Z",
     "start_time": "2025-03-26T00:52:11.020051Z"
    }
   },
   "cell_type": "code",
   "source": [
    "# делаем из районов дамми переменные\n",
    "\n",
    "# Функция для создания дамми-переменных с использованием .loc[]\n",
    "def create_dummy_variables(df):\n",
    "    df.loc[:, 'Центральный'] = df['district'].apply(lambda x: 1 if x in ['Центральный', 'Невский', 'Адмиралтейский',\n",
    "                                                                      'Василеостровский', 'Петроградский'] else 0)\n",
    "    df.loc[:, 'Спальный'] = df['district'].apply(lambda x: 1 if x in ['Выборгский', 'Калининский', 'Кировский', \n",
    "                                                                   'Колпинский', 'Красногвардейский', 'Красносельский', \n",
    "                                                                   'Московский', 'Пушкинский', 'Фрунзенский'] else 0)\n",
    "    df.loc[:, 'Прибрежный'] = df['district'].apply(lambda x: 1 if x in ['Василеостровский', 'Красносельский', \n",
    "                                                                    'Кронштадтский', 'Курортный', 'Приморский', \n",
    "                                                                    'Петродворцовый'] else 0)\n",
    "    df.loc[:, 'Промышленный'] = df['district'].apply(lambda x: 1 if x in ['Калининский', 'Кировский', 'Колпинский', \n",
    "                                                                       'Кронштадтский', 'Московский'] else 0)\n",
    "    return df\n",
    "\n",
    "# Создаем дамми-переменные\n",
    "cian = create_dummy_variables(cian)\n",
    "cian"
   ],
   "id": "a8656207da34dfb2",
   "outputs": [
    {
     "data": {
      "text/plain": [
       "              id                                    title  \\\n",
       "0      307260103        1-комн. квартира, 44 м², 7/9 этаж   \n",
       "1      314584858     1-комн. квартира, 4 362 м², 5/9 этаж   \n",
       "2      313145340     1-комн. квартира, 32,2 м², 4/12 этаж   \n",
       "3      314634835        Просторная однокомнатная квартира   \n",
       "4      313323424        1-комн. квартира, 32 м², 2/9 этаж   \n",
       "...          ...                                      ...   \n",
       "29216  309824071  Апартаменты-студия, 42,1 м², 11/12 этаж   \n",
       "29217  306247027                Студия, 21,2 м², 2/9 этаж   \n",
       "29218  314667708      1-комн. квартира, 30,9 м², 3/9 этаж   \n",
       "29219  313170735     1-комн. квартира, 32,1 м², 1/12 этаж   \n",
       "29220  309781435    1-комн. квартира, 34,1 м², 10/14 этаж   \n",
       "\n",
       "                                           link     price  price_per_m2  \\\n",
       "0      https://spb.cian.ru/sale/flat/307260103/   5325000        121023   \n",
       "1      https://spb.cian.ru/sale/flat/314584858/  17990000          4124   \n",
       "2      https://spb.cian.ru/sale/flat/313145340/   3900000        121118   \n",
       "3      https://spb.cian.ru/sale/flat/314634835/   5341234        115113   \n",
       "4      https://spb.cian.ru/sale/flat/313323424/   3913000        122281   \n",
       "...                                         ...       ...           ...   \n",
       "29216  https://spb.cian.ru/sale/flat/309824071/  31120024        739193   \n",
       "29217  https://spb.cian.ru/sale/flat/306247027/  11064280        521900   \n",
       "29218  https://spb.cian.ru/sale/flat/314667708/   4800000        155340   \n",
       "29219  https://spb.cian.ru/sale/flat/313170735/   5350000        166667   \n",
       "29220  https://spb.cian.ru/sale/flat/309781435/   7160000        209971   \n",
       "\n",
       "                        metro  floor  total_floors  area property_type  ...  \\\n",
       "0                      Шушары      7             9    51      квартира  ...   \n",
       "1                Черная речка      5             9   362      квартира  ...   \n",
       "2                      Шушары      4            12    32      квартира  ...   \n",
       "3                   Ладожская      1             5    46   апартаменты  ...   \n",
       "4          Проспект Ветеранов      2             9    32      квартира  ...   \n",
       "...                       ...    ...           ...   ...           ...  ...   \n",
       "29216             Зеленогорск     11            12    55      квартира  ...   \n",
       "29217              Балтийская      2             9    62      квартира  ...   \n",
       "29218    Гражданский проспект      3             9    31      квартира  ...   \n",
       "29219    Проспект Просвещения      1            12    32      квартира  ...   \n",
       "29220  Комендантский проспект     10            14    34      квартира  ...   \n",
       "\n",
       "      rosreestr_verified                  zhk_name  \\\n",
       "0                  False              ЖК «Вариант»   \n",
       "1                  False     ЖК «Черная речка, 41»   \n",
       "2                  False                Нет данных   \n",
       "3                  False                Нет данных   \n",
       "4                   True                Нет данных   \n",
       "...                  ...                       ...   \n",
       "29216              False  ЖК «МФК Морская ривьера»   \n",
       "29217              False     ЖК «Лермонтовский 54»   \n",
       "29218               True                Нет данных   \n",
       "29219              False                Нет данных   \n",
       "29220              False                Нет данных   \n",
       "\n",
       "                                             description           district  \\\n",
       "0      На земельном участке в Шушарах (м/р Ленсоветов...         Пушкинский   \n",
       "1      Арт. 97119898 Продается 1-комнатная квартира 4...         Приморский   \n",
       "2      Продается однокомнатная квартира, комната хоро...         Колпинский   \n",
       "3      Oднокoмнaтная у м. Ладожcкая в зеленой чaсти г...  Красногвардейский   \n",
       "4      Реaлизуетcя имущeство, в собственнoсти AО Т-Бa...     Красносельский   \n",
       "...                                                  ...                ...   \n",
       "29216  \"Морская Ривьера\" уникальный комплекс апартаме...          Курортный   \n",
       "29217  Продаётся квартира-студия площадью 21,2 кв.м н...     Адмиралтейский   \n",
       "29218  КУПИТЕ квартиру в городе по цене студии! - Ква...        Калининский   \n",
       "29219  ID: 1912152 Однушка - надо брать! 15 мин пешко...         Выборгский   \n",
       "29220  Арт. 80872072 Полноценная 1- комнатная квартир...         Приморский   \n",
       "\n",
       "      кол-во комнат время до метро (мин) Центральный  Спальный  Прибрежный  \\\n",
       "0                 1                    2           0         1           0   \n",
       "1                 1                   10           0         0           1   \n",
       "2                 1                    3           0         1           0   \n",
       "3                 1                    2           0         1           0   \n",
       "4                 1                    2           0         1           1   \n",
       "...             ...                  ...         ...       ...         ...   \n",
       "29216             0                    1           0         0           1   \n",
       "29217             0                    4           1         0           0   \n",
       "29218             0                    1           0         1           0   \n",
       "29219             0                   16           0         1           0   \n",
       "29220             0                   10           0         0           1   \n",
       "\n",
       "       Промышленный  \n",
       "0                 0  \n",
       "1                 0  \n",
       "2                 1  \n",
       "3                 0  \n",
       "4                 0  \n",
       "...             ...  \n",
       "29216             0  \n",
       "29217             0  \n",
       "29218             1  \n",
       "29219             0  \n",
       "29220             0  \n",
       "\n",
       "[29220 rows x 23 columns]"
      ],
      "text/html": [
       "<div>\n",
       "<style scoped>\n",
       "    .dataframe tbody tr th:only-of-type {\n",
       "        vertical-align: middle;\n",
       "    }\n",
       "\n",
       "    .dataframe tbody tr th {\n",
       "        vertical-align: top;\n",
       "    }\n",
       "\n",
       "    .dataframe thead th {\n",
       "        text-align: right;\n",
       "    }\n",
       "</style>\n",
       "<table border=\"1\" class=\"dataframe\">\n",
       "  <thead>\n",
       "    <tr style=\"text-align: right;\">\n",
       "      <th></th>\n",
       "      <th>id</th>\n",
       "      <th>title</th>\n",
       "      <th>link</th>\n",
       "      <th>price</th>\n",
       "      <th>price_per_m2</th>\n",
       "      <th>metro</th>\n",
       "      <th>floor</th>\n",
       "      <th>total_floors</th>\n",
       "      <th>area</th>\n",
       "      <th>property_type</th>\n",
       "      <th>...</th>\n",
       "      <th>rosreestr_verified</th>\n",
       "      <th>zhk_name</th>\n",
       "      <th>description</th>\n",
       "      <th>district</th>\n",
       "      <th>кол-во комнат</th>\n",
       "      <th>время до метро (мин)</th>\n",
       "      <th>Центральный</th>\n",
       "      <th>Спальный</th>\n",
       "      <th>Прибрежный</th>\n",
       "      <th>Промышленный</th>\n",
       "    </tr>\n",
       "  </thead>\n",
       "  <tbody>\n",
       "    <tr>\n",
       "      <th>0</th>\n",
       "      <td>307260103</td>\n",
       "      <td>1-комн. квартира, 44 м², 7/9 этаж</td>\n",
       "      <td>https://spb.cian.ru/sale/flat/307260103/</td>\n",
       "      <td>5325000</td>\n",
       "      <td>121023</td>\n",
       "      <td>Шушары</td>\n",
       "      <td>7</td>\n",
       "      <td>9</td>\n",
       "      <td>51</td>\n",
       "      <td>квартира</td>\n",
       "      <td>...</td>\n",
       "      <td>False</td>\n",
       "      <td>ЖК «Вариант»</td>\n",
       "      <td>На земельном участке в Шушарах (м/р Ленсоветов...</td>\n",
       "      <td>Пушкинский</td>\n",
       "      <td>1</td>\n",
       "      <td>2</td>\n",
       "      <td>0</td>\n",
       "      <td>1</td>\n",
       "      <td>0</td>\n",
       "      <td>0</td>\n",
       "    </tr>\n",
       "    <tr>\n",
       "      <th>1</th>\n",
       "      <td>314584858</td>\n",
       "      <td>1-комн. квартира, 4 362 м², 5/9 этаж</td>\n",
       "      <td>https://spb.cian.ru/sale/flat/314584858/</td>\n",
       "      <td>17990000</td>\n",
       "      <td>4124</td>\n",
       "      <td>Черная речка</td>\n",
       "      <td>5</td>\n",
       "      <td>9</td>\n",
       "      <td>362</td>\n",
       "      <td>квартира</td>\n",
       "      <td>...</td>\n",
       "      <td>False</td>\n",
       "      <td>ЖК «Черная речка, 41»</td>\n",
       "      <td>Арт. 97119898 Продается 1-комнатная квартира 4...</td>\n",
       "      <td>Приморский</td>\n",
       "      <td>1</td>\n",
       "      <td>10</td>\n",
       "      <td>0</td>\n",
       "      <td>0</td>\n",
       "      <td>1</td>\n",
       "      <td>0</td>\n",
       "    </tr>\n",
       "    <tr>\n",
       "      <th>2</th>\n",
       "      <td>313145340</td>\n",
       "      <td>1-комн. квартира, 32,2 м², 4/12 этаж</td>\n",
       "      <td>https://spb.cian.ru/sale/flat/313145340/</td>\n",
       "      <td>3900000</td>\n",
       "      <td>121118</td>\n",
       "      <td>Шушары</td>\n",
       "      <td>4</td>\n",
       "      <td>12</td>\n",
       "      <td>32</td>\n",
       "      <td>квартира</td>\n",
       "      <td>...</td>\n",
       "      <td>False</td>\n",
       "      <td>Нет данных</td>\n",
       "      <td>Продается однокомнатная квартира, комната хоро...</td>\n",
       "      <td>Колпинский</td>\n",
       "      <td>1</td>\n",
       "      <td>3</td>\n",
       "      <td>0</td>\n",
       "      <td>1</td>\n",
       "      <td>0</td>\n",
       "      <td>1</td>\n",
       "    </tr>\n",
       "    <tr>\n",
       "      <th>3</th>\n",
       "      <td>314634835</td>\n",
       "      <td>Просторная однокомнатная квартира</td>\n",
       "      <td>https://spb.cian.ru/sale/flat/314634835/</td>\n",
       "      <td>5341234</td>\n",
       "      <td>115113</td>\n",
       "      <td>Ладожская</td>\n",
       "      <td>1</td>\n",
       "      <td>5</td>\n",
       "      <td>46</td>\n",
       "      <td>апартаменты</td>\n",
       "      <td>...</td>\n",
       "      <td>False</td>\n",
       "      <td>Нет данных</td>\n",
       "      <td>Oднокoмнaтная у м. Ладожcкая в зеленой чaсти г...</td>\n",
       "      <td>Красногвардейский</td>\n",
       "      <td>1</td>\n",
       "      <td>2</td>\n",
       "      <td>0</td>\n",
       "      <td>1</td>\n",
       "      <td>0</td>\n",
       "      <td>0</td>\n",
       "    </tr>\n",
       "    <tr>\n",
       "      <th>4</th>\n",
       "      <td>313323424</td>\n",
       "      <td>1-комн. квартира, 32 м², 2/9 этаж</td>\n",
       "      <td>https://spb.cian.ru/sale/flat/313323424/</td>\n",
       "      <td>3913000</td>\n",
       "      <td>122281</td>\n",
       "      <td>Проспект Ветеранов</td>\n",
       "      <td>2</td>\n",
       "      <td>9</td>\n",
       "      <td>32</td>\n",
       "      <td>квартира</td>\n",
       "      <td>...</td>\n",
       "      <td>True</td>\n",
       "      <td>Нет данных</td>\n",
       "      <td>Реaлизуетcя имущeство, в собственнoсти AО Т-Бa...</td>\n",
       "      <td>Красносельский</td>\n",
       "      <td>1</td>\n",
       "      <td>2</td>\n",
       "      <td>0</td>\n",
       "      <td>1</td>\n",
       "      <td>1</td>\n",
       "      <td>0</td>\n",
       "    </tr>\n",
       "    <tr>\n",
       "      <th>...</th>\n",
       "      <td>...</td>\n",
       "      <td>...</td>\n",
       "      <td>...</td>\n",
       "      <td>...</td>\n",
       "      <td>...</td>\n",
       "      <td>...</td>\n",
       "      <td>...</td>\n",
       "      <td>...</td>\n",
       "      <td>...</td>\n",
       "      <td>...</td>\n",
       "      <td>...</td>\n",
       "      <td>...</td>\n",
       "      <td>...</td>\n",
       "      <td>...</td>\n",
       "      <td>...</td>\n",
       "      <td>...</td>\n",
       "      <td>...</td>\n",
       "      <td>...</td>\n",
       "      <td>...</td>\n",
       "      <td>...</td>\n",
       "      <td>...</td>\n",
       "    </tr>\n",
       "    <tr>\n",
       "      <th>29216</th>\n",
       "      <td>309824071</td>\n",
       "      <td>Апартаменты-студия, 42,1 м², 11/12 этаж</td>\n",
       "      <td>https://spb.cian.ru/sale/flat/309824071/</td>\n",
       "      <td>31120024</td>\n",
       "      <td>739193</td>\n",
       "      <td>Зеленогорск</td>\n",
       "      <td>11</td>\n",
       "      <td>12</td>\n",
       "      <td>55</td>\n",
       "      <td>квартира</td>\n",
       "      <td>...</td>\n",
       "      <td>False</td>\n",
       "      <td>ЖК «МФК Морская ривьера»</td>\n",
       "      <td>\"Морская Ривьера\" уникальный комплекс апартаме...</td>\n",
       "      <td>Курортный</td>\n",
       "      <td>0</td>\n",
       "      <td>1</td>\n",
       "      <td>0</td>\n",
       "      <td>0</td>\n",
       "      <td>1</td>\n",
       "      <td>0</td>\n",
       "    </tr>\n",
       "    <tr>\n",
       "      <th>29217</th>\n",
       "      <td>306247027</td>\n",
       "      <td>Студия, 21,2 м², 2/9 этаж</td>\n",
       "      <td>https://spb.cian.ru/sale/flat/306247027/</td>\n",
       "      <td>11064280</td>\n",
       "      <td>521900</td>\n",
       "      <td>Балтийская</td>\n",
       "      <td>2</td>\n",
       "      <td>9</td>\n",
       "      <td>62</td>\n",
       "      <td>квартира</td>\n",
       "      <td>...</td>\n",
       "      <td>False</td>\n",
       "      <td>ЖК «Лермонтовский 54»</td>\n",
       "      <td>Продаётся квартира-студия площадью 21,2 кв.м н...</td>\n",
       "      <td>Адмиралтейский</td>\n",
       "      <td>0</td>\n",
       "      <td>4</td>\n",
       "      <td>1</td>\n",
       "      <td>0</td>\n",
       "      <td>0</td>\n",
       "      <td>0</td>\n",
       "    </tr>\n",
       "    <tr>\n",
       "      <th>29218</th>\n",
       "      <td>314667708</td>\n",
       "      <td>1-комн. квартира, 30,9 м², 3/9 этаж</td>\n",
       "      <td>https://spb.cian.ru/sale/flat/314667708/</td>\n",
       "      <td>4800000</td>\n",
       "      <td>155340</td>\n",
       "      <td>Гражданский проспект</td>\n",
       "      <td>3</td>\n",
       "      <td>9</td>\n",
       "      <td>31</td>\n",
       "      <td>квартира</td>\n",
       "      <td>...</td>\n",
       "      <td>True</td>\n",
       "      <td>Нет данных</td>\n",
       "      <td>КУПИТЕ квартиру в городе по цене студии! - Ква...</td>\n",
       "      <td>Калининский</td>\n",
       "      <td>0</td>\n",
       "      <td>1</td>\n",
       "      <td>0</td>\n",
       "      <td>1</td>\n",
       "      <td>0</td>\n",
       "      <td>1</td>\n",
       "    </tr>\n",
       "    <tr>\n",
       "      <th>29219</th>\n",
       "      <td>313170735</td>\n",
       "      <td>1-комн. квартира, 32,1 м², 1/12 этаж</td>\n",
       "      <td>https://spb.cian.ru/sale/flat/313170735/</td>\n",
       "      <td>5350000</td>\n",
       "      <td>166667</td>\n",
       "      <td>Проспект Просвещения</td>\n",
       "      <td>1</td>\n",
       "      <td>12</td>\n",
       "      <td>32</td>\n",
       "      <td>квартира</td>\n",
       "      <td>...</td>\n",
       "      <td>False</td>\n",
       "      <td>Нет данных</td>\n",
       "      <td>ID: 1912152 Однушка - надо брать! 15 мин пешко...</td>\n",
       "      <td>Выборгский</td>\n",
       "      <td>0</td>\n",
       "      <td>16</td>\n",
       "      <td>0</td>\n",
       "      <td>1</td>\n",
       "      <td>0</td>\n",
       "      <td>0</td>\n",
       "    </tr>\n",
       "    <tr>\n",
       "      <th>29220</th>\n",
       "      <td>309781435</td>\n",
       "      <td>1-комн. квартира, 34,1 м², 10/14 этаж</td>\n",
       "      <td>https://spb.cian.ru/sale/flat/309781435/</td>\n",
       "      <td>7160000</td>\n",
       "      <td>209971</td>\n",
       "      <td>Комендантский проспект</td>\n",
       "      <td>10</td>\n",
       "      <td>14</td>\n",
       "      <td>34</td>\n",
       "      <td>квартира</td>\n",
       "      <td>...</td>\n",
       "      <td>False</td>\n",
       "      <td>Нет данных</td>\n",
       "      <td>Арт. 80872072 Полноценная 1- комнатная квартир...</td>\n",
       "      <td>Приморский</td>\n",
       "      <td>0</td>\n",
       "      <td>10</td>\n",
       "      <td>0</td>\n",
       "      <td>0</td>\n",
       "      <td>1</td>\n",
       "      <td>0</td>\n",
       "    </tr>\n",
       "  </tbody>\n",
       "</table>\n",
       "<p>29220 rows × 23 columns</p>\n",
       "</div>"
      ]
     },
     "execution_count": 85,
     "metadata": {},
     "output_type": "execute_result"
    }
   ],
   "execution_count": 85
  },
  {
   "metadata": {
    "ExecuteTime": {
     "end_time": "2025-03-26T00:52:11.870568Z",
     "start_time": "2025-03-26T00:52:11.848348Z"
    }
   },
   "cell_type": "code",
   "source": [
    "# делим \n",
    "def categorize_floors(floor):\n",
    "    if 1 <= floor <= 2:\n",
    "        return \"[1-2]\"\n",
    "    elif 3 <= floor <= 4:\n",
    "        return \"[3-4]\"\n",
    "    elif 5 <= floor <= 10:\n",
    "        return \"[5-10]\"\n",
    "    elif 11 <= floor <= 20:\n",
    "        return \"[11-20]\"\n",
    "    else:\n",
    "        return \"[>20]\"\n",
    "\n",
    "cian[\"floor_group\"] = cian[\"total_floors\"].apply(categorize_floors)"
   ],
   "id": "359bac67aeb40ef",
   "outputs": [],
   "execution_count": 86
  },
  {
   "metadata": {
    "ExecuteTime": {
     "end_time": "2025-03-26T00:52:12.840577Z",
     "start_time": "2025-03-26T00:52:12.544295Z"
    }
   },
   "cell_type": "code",
   "source": [
    "# ищем в описании префикс 'срочн' и добавляем новый столбец\n",
    "def check_urgent_sale(text):\n",
    "    if pd.isna(text):  # Проверяем на NaN\n",
    "        return \"Несрочная продажа\"\n",
    "    return \"Срочная продажа\" if re.search(r\"\\bсрочн\", text, re.IGNORECASE) else \"Несрочная продажа\"\n",
    "\n",
    "# Применяем функцию к столбцу \"description\"\n",
    "cian[\"Срочная_продажа\"] = cian[\"description\"].apply(check_urgent_sale)"
   ],
   "id": "6f3c1eac52298914",
   "outputs": [],
   "execution_count": 87
  },
  {
   "metadata": {
    "ExecuteTime": {
     "end_time": "2025-03-26T00:52:13.305392Z",
     "start_time": "2025-03-26T00:52:13.299850Z"
    }
   },
   "cell_type": "code",
   "source": [
    "# выбираем нужные столбцы\n",
    "cian = cian[['price_per_m2', 'metro', 'district', 'floor', 'total_floors', 'area', 'property_type', 'seller_type', 'documents_verified', 'super_agent', 'rosreestr_verified', 'zhk_name', 'кол-во комнат', 'время до метро (мин)', 'floor_group', 'Центральный', 'Спальный', 'Прибрежный', 'Промышленный', 'Срочная_продажа']]"
   ],
   "id": "9ce8e371312ba94e",
   "outputs": [],
   "execution_count": 88
  },
  {
   "metadata": {
    "ExecuteTime": {
     "end_time": "2025-03-26T00:52:14.005273Z",
     "start_time": "2025-03-26T00:52:14.001712Z"
    }
   },
   "cell_type": "code",
   "source": [
    "# переименовываем\n",
    "cian.rename(columns={'metro': 'Метро', 'floor' : 'Этаж_квартиры', 'price_per_m2': 'Цена_за_метр', \n",
    "                     'total_floors' : 'Этажность_здания', 'area': 'Площадь_помещения', 'property_type': 'Тип_недвижимости',\n",
    "                     'documents_verified' : 'Документы_проверены', 'super_agent': 'Супер_агент', \n",
    "                     'rosreestr_verified': 'Росреестр_проверено', 'zhk_name' : 'Название_ЖК', 'кол-во комнат':'Кол-во_комнат', \n",
    "                     'время до метро (мин)': 'Время_до_метро', 'district':'Район'}, inplace=True)"
   ],
   "id": "e6f9421d43152f89",
   "outputs": [
    {
     "name": "stderr",
     "output_type": "stream",
     "text": [
      "/var/folders/bm/39vh_d456d388sl7tv8xtz540000gn/T/ipykernel_52264/2840974038.py:2: SettingWithCopyWarning: \n",
      "A value is trying to be set on a copy of a slice from a DataFrame\n",
      "\n",
      "See the caveats in the documentation: https://pandas.pydata.org/pandas-docs/stable/user_guide/indexing.html#returning-a-view-versus-a-copy\n",
      "  cian.rename(columns={'metro': 'Метро', 'floor' : 'Этаж_квартиры', 'price_per_m2': 'Цена_за_метр',\n"
     ]
    }
   ],
   "execution_count": 89
  },
  {
   "metadata": {
    "ExecuteTime": {
     "end_time": "2025-03-26T00:52:14.749704Z",
     "start_time": "2025-03-26T00:52:14.727033Z"
    }
   },
   "cell_type": "code",
   "source": [
    "# приводим группы этажности к категориальным переменным\n",
    "def replace_floor_group(value):\n",
    "    if value == '[1-2]':\n",
    "        return 1\n",
    "    elif value == '[3-4]':\n",
    "        return 2\n",
    "    elif value == '[5-10]':\n",
    "        return 3\n",
    "    elif value == '[11-20]':\n",
    "        return 4\n",
    "    elif value == '[>20]':\n",
    "        return 5\n",
    "    return value  # Если значение не найдено, оставляем его без изменений\n",
    "\n",
    "# Применяем функцию к столбцу 'floor_group'\n",
    "cian['Группа_этажности'] = cian['floor_group'].apply(replace_floor_group)"
   ],
   "id": "8931313a34a12bd9",
   "outputs": [
    {
     "name": "stderr",
     "output_type": "stream",
     "text": [
      "/var/folders/bm/39vh_d456d388sl7tv8xtz540000gn/T/ipykernel_52264/2846786549.py:16: SettingWithCopyWarning: \n",
      "A value is trying to be set on a copy of a slice from a DataFrame.\n",
      "Try using .loc[row_indexer,col_indexer] = value instead\n",
      "\n",
      "See the caveats in the documentation: https://pandas.pydata.org/pandas-docs/stable/user_guide/indexing.html#returning-a-view-versus-a-copy\n",
      "  cian['Группа_этажности'] = cian['floor_group'].apply(replace_floor_group)\n"
     ]
    }
   ],
   "execution_count": 90
  },
  {
   "metadata": {
    "ExecuteTime": {
     "end_time": "2025-03-26T00:52:15.448935Z",
     "start_time": "2025-03-26T00:52:15.403587Z"
    }
   },
   "cell_type": "code",
   "source": [
    "# заменяем True и False\n",
    "cian = cian.replace({True: 1, False: 0})"
   ],
   "id": "8c4693bb9d8d73dd",
   "outputs": [
    {
     "name": "stderr",
     "output_type": "stream",
     "text": [
      "/var/folders/bm/39vh_d456d388sl7tv8xtz540000gn/T/ipykernel_52264/2282158547.py:2: FutureWarning: Downcasting behavior in `replace` is deprecated and will be removed in a future version. To retain the old behavior, explicitly call `result.infer_objects(copy=False)`. To opt-in to the future behavior, set `pd.set_option('future.no_silent_downcasting', True)`\n",
      "  cian = cian.replace({True: 1, False: 0})\n"
     ]
    }
   ],
   "execution_count": 91
  },
  {
   "metadata": {
    "ExecuteTime": {
     "end_time": "2025-03-26T00:52:16.102622Z",
     "start_time": "2025-03-26T00:52:16.079607Z"
    }
   },
   "cell_type": "code",
   "source": [
    "# приводим к категориальным переменным\n",
    "cian['Тип_недвижимости'] = cian['Тип_недвижимости'].replace({'квартира': 1, 'апартаменты': 0})"
   ],
   "id": "75e24d3d9fca2dca",
   "outputs": [
    {
     "name": "stderr",
     "output_type": "stream",
     "text": [
      "/var/folders/bm/39vh_d456d388sl7tv8xtz540000gn/T/ipykernel_52264/4058105043.py:2: FutureWarning: Downcasting behavior in `replace` is deprecated and will be removed in a future version. To retain the old behavior, explicitly call `result.infer_objects(copy=False)`. To opt-in to the future behavior, set `pd.set_option('future.no_silent_downcasting', True)`\n",
      "  cian['Тип_недвижимости'] = cian['Тип_недвижимости'].replace({'квартира': 1, 'апартаменты': 0})\n"
     ]
    }
   ],
   "execution_count": 92
  },
  {
   "metadata": {
    "ExecuteTime": {
     "end_time": "2025-03-26T00:52:16.587783Z",
     "start_time": "2025-03-26T00:52:16.583114Z"
    }
   },
   "cell_type": "code",
   "source": [
    "# меняем тип столбцов\n",
    "cian[['Этаж_квартиры', 'Этажность_здания']] = cian[['Этаж_квартиры', 'Этажность_здания']].astype(int)"
   ],
   "id": "1d76e1f261ea8d55",
   "outputs": [],
   "execution_count": 93
  },
  {
   "metadata": {
    "ExecuteTime": {
     "end_time": "2025-03-26T00:52:17.155203Z",
     "start_time": "2025-03-26T00:52:17.144723Z"
    }
   },
   "cell_type": "code",
   "source": [
    "# меняем на категориальные переменные\n",
    "cian['Срочная_продажа'] = cian['Срочная_продажа'].replace({'Несрочная продажа': 0, 'Срочная продажа': 1})"
   ],
   "id": "bcfbf9190a99fb6e",
   "outputs": [
    {
     "name": "stderr",
     "output_type": "stream",
     "text": [
      "/var/folders/bm/39vh_d456d388sl7tv8xtz540000gn/T/ipykernel_52264/2098518576.py:2: FutureWarning: Downcasting behavior in `replace` is deprecated and will be removed in a future version. To retain the old behavior, explicitly call `result.infer_objects(copy=False)`. To opt-in to the future behavior, set `pd.set_option('future.no_silent_downcasting', True)`\n",
      "  cian['Срочная_продажа'] = cian['Срочная_продажа'].replace({'Несрочная продажа': 0, 'Срочная продажа': 1})\n"
     ]
    }
   ],
   "execution_count": 94
  },
  {
   "metadata": {
    "ExecuteTime": {
     "end_time": "2025-03-26T00:52:17.834609Z",
     "start_time": "2025-03-26T00:52:17.810225Z"
    }
   },
   "cell_type": "code",
   "source": "cian",
   "id": "85f2c15b7e90ee83",
   "outputs": [
    {
     "data": {
      "text/plain": [
       "       Цена_за_метр                   Метро              Район  Этаж_квартиры  \\\n",
       "0            121023                  Шушары         Пушкинский              7   \n",
       "1              4124            Черная речка         Приморский              5   \n",
       "2            121118                  Шушары         Колпинский              4   \n",
       "3            115113               Ладожская  Красногвардейский              1   \n",
       "4            122281      Проспект Ветеранов     Красносельский              2   \n",
       "...             ...                     ...                ...            ...   \n",
       "29216        739193             Зеленогорск          Курортный             11   \n",
       "29217        521900              Балтийская     Адмиралтейский              2   \n",
       "29218        155340    Гражданский проспект        Калининский              3   \n",
       "29219        166667    Проспект Просвещения         Выборгский              1   \n",
       "29220        209971  Комендантский проспект         Приморский             10   \n",
       "\n",
       "       Этажность_здания  Площадь_помещения  Тип_недвижимости  \\\n",
       "0                     9                 51                 1   \n",
       "1                     9                362                 1   \n",
       "2                    12                 32                 1   \n",
       "3                     5                 46                 0   \n",
       "4                     9                 32                 1   \n",
       "...                 ...                ...               ...   \n",
       "29216                12                 55                 1   \n",
       "29217                 9                 62                 1   \n",
       "29218                 9                 31                 1   \n",
       "29219                12                 32                 1   \n",
       "29220                14                 34                 1   \n",
       "\n",
       "                     seller_type  Документы_проверены  Супер_агент  ...  \\\n",
       "0      ПРЕДСТАВИТЕЛЬ ЗАСТРОЙЩИКА                    0            0  ...   \n",
       "1         АГЕНТСТВО НЕДВИЖИМОСТИ                    1            0  ...   \n",
       "2         АГЕНТСТВО НЕДВИЖИМОСТИ                    1            0  ...   \n",
       "3            УК・ОФ.ПРЕДСТАВИТЕЛЬ                    1            0  ...   \n",
       "4         АГЕНТСТВО НЕДВИЖИМОСТИ                    1            0  ...   \n",
       "...                          ...                  ...          ...  ...   \n",
       "29216                 ЗАСТРОЙЩИК                    0            0  ...   \n",
       "29217                 ЗАСТРОЙЩИК                    0            0  ...   \n",
       "29218                    РИЕЛТОР                    0            1  ...   \n",
       "29219     АГЕНТСТВО НЕДВИЖИМОСТИ                    1            0  ...   \n",
       "29220     АГЕНТСТВО НЕДВИЖИМОСТИ                    1            0  ...   \n",
       "\n",
       "                    Название_ЖК Кол-во_комнат  Время_до_метро  floor_group  \\\n",
       "0                  ЖК «Вариант»             1               2       [5-10]   \n",
       "1         ЖК «Черная речка, 41»             1              10       [5-10]   \n",
       "2                    Нет данных             1               3      [11-20]   \n",
       "3                    Нет данных             1               2       [5-10]   \n",
       "4                    Нет данных             1               2       [5-10]   \n",
       "...                         ...           ...             ...          ...   \n",
       "29216  ЖК «МФК Морская ривьера»             0               1      [11-20]   \n",
       "29217     ЖК «Лермонтовский 54»             0               4       [5-10]   \n",
       "29218                Нет данных             0               1       [5-10]   \n",
       "29219                Нет данных             0              16      [11-20]   \n",
       "29220                Нет данных             0              10      [11-20]   \n",
       "\n",
       "      Центральный  Спальный  Прибрежный  Промышленный  Срочная_продажа  \\\n",
       "0               0         1           0             0                0   \n",
       "1               0         0           1             0                0   \n",
       "2               0         1           0             1                0   \n",
       "3               0         1           0             0                0   \n",
       "4               0         1           1             0                0   \n",
       "...           ...       ...         ...           ...              ...   \n",
       "29216           0         0           1             0                0   \n",
       "29217           1         0           0             0                0   \n",
       "29218           0         1           0             1                0   \n",
       "29219           0         1           0             0                0   \n",
       "29220           0         0           1             0                0   \n",
       "\n",
       "       Группа_этажности  \n",
       "0                     3  \n",
       "1                     3  \n",
       "2                     4  \n",
       "3                     3  \n",
       "4                     3  \n",
       "...                 ...  \n",
       "29216                 4  \n",
       "29217                 3  \n",
       "29218                 3  \n",
       "29219                 4  \n",
       "29220                 4  \n",
       "\n",
       "[29220 rows x 21 columns]"
      ],
      "text/html": [
       "<div>\n",
       "<style scoped>\n",
       "    .dataframe tbody tr th:only-of-type {\n",
       "        vertical-align: middle;\n",
       "    }\n",
       "\n",
       "    .dataframe tbody tr th {\n",
       "        vertical-align: top;\n",
       "    }\n",
       "\n",
       "    .dataframe thead th {\n",
       "        text-align: right;\n",
       "    }\n",
       "</style>\n",
       "<table border=\"1\" class=\"dataframe\">\n",
       "  <thead>\n",
       "    <tr style=\"text-align: right;\">\n",
       "      <th></th>\n",
       "      <th>Цена_за_метр</th>\n",
       "      <th>Метро</th>\n",
       "      <th>Район</th>\n",
       "      <th>Этаж_квартиры</th>\n",
       "      <th>Этажность_здания</th>\n",
       "      <th>Площадь_помещения</th>\n",
       "      <th>Тип_недвижимости</th>\n",
       "      <th>seller_type</th>\n",
       "      <th>Документы_проверены</th>\n",
       "      <th>Супер_агент</th>\n",
       "      <th>...</th>\n",
       "      <th>Название_ЖК</th>\n",
       "      <th>Кол-во_комнат</th>\n",
       "      <th>Время_до_метро</th>\n",
       "      <th>floor_group</th>\n",
       "      <th>Центральный</th>\n",
       "      <th>Спальный</th>\n",
       "      <th>Прибрежный</th>\n",
       "      <th>Промышленный</th>\n",
       "      <th>Срочная_продажа</th>\n",
       "      <th>Группа_этажности</th>\n",
       "    </tr>\n",
       "  </thead>\n",
       "  <tbody>\n",
       "    <tr>\n",
       "      <th>0</th>\n",
       "      <td>121023</td>\n",
       "      <td>Шушары</td>\n",
       "      <td>Пушкинский</td>\n",
       "      <td>7</td>\n",
       "      <td>9</td>\n",
       "      <td>51</td>\n",
       "      <td>1</td>\n",
       "      <td>ПРЕДСТАВИТЕЛЬ ЗАСТРОЙЩИКА</td>\n",
       "      <td>0</td>\n",
       "      <td>0</td>\n",
       "      <td>...</td>\n",
       "      <td>ЖК «Вариант»</td>\n",
       "      <td>1</td>\n",
       "      <td>2</td>\n",
       "      <td>[5-10]</td>\n",
       "      <td>0</td>\n",
       "      <td>1</td>\n",
       "      <td>0</td>\n",
       "      <td>0</td>\n",
       "      <td>0</td>\n",
       "      <td>3</td>\n",
       "    </tr>\n",
       "    <tr>\n",
       "      <th>1</th>\n",
       "      <td>4124</td>\n",
       "      <td>Черная речка</td>\n",
       "      <td>Приморский</td>\n",
       "      <td>5</td>\n",
       "      <td>9</td>\n",
       "      <td>362</td>\n",
       "      <td>1</td>\n",
       "      <td>АГЕНТСТВО НЕДВИЖИМОСТИ</td>\n",
       "      <td>1</td>\n",
       "      <td>0</td>\n",
       "      <td>...</td>\n",
       "      <td>ЖК «Черная речка, 41»</td>\n",
       "      <td>1</td>\n",
       "      <td>10</td>\n",
       "      <td>[5-10]</td>\n",
       "      <td>0</td>\n",
       "      <td>0</td>\n",
       "      <td>1</td>\n",
       "      <td>0</td>\n",
       "      <td>0</td>\n",
       "      <td>3</td>\n",
       "    </tr>\n",
       "    <tr>\n",
       "      <th>2</th>\n",
       "      <td>121118</td>\n",
       "      <td>Шушары</td>\n",
       "      <td>Колпинский</td>\n",
       "      <td>4</td>\n",
       "      <td>12</td>\n",
       "      <td>32</td>\n",
       "      <td>1</td>\n",
       "      <td>АГЕНТСТВО НЕДВИЖИМОСТИ</td>\n",
       "      <td>1</td>\n",
       "      <td>0</td>\n",
       "      <td>...</td>\n",
       "      <td>Нет данных</td>\n",
       "      <td>1</td>\n",
       "      <td>3</td>\n",
       "      <td>[11-20]</td>\n",
       "      <td>0</td>\n",
       "      <td>1</td>\n",
       "      <td>0</td>\n",
       "      <td>1</td>\n",
       "      <td>0</td>\n",
       "      <td>4</td>\n",
       "    </tr>\n",
       "    <tr>\n",
       "      <th>3</th>\n",
       "      <td>115113</td>\n",
       "      <td>Ладожская</td>\n",
       "      <td>Красногвардейский</td>\n",
       "      <td>1</td>\n",
       "      <td>5</td>\n",
       "      <td>46</td>\n",
       "      <td>0</td>\n",
       "      <td>УК・ОФ.ПРЕДСТАВИТЕЛЬ</td>\n",
       "      <td>1</td>\n",
       "      <td>0</td>\n",
       "      <td>...</td>\n",
       "      <td>Нет данных</td>\n",
       "      <td>1</td>\n",
       "      <td>2</td>\n",
       "      <td>[5-10]</td>\n",
       "      <td>0</td>\n",
       "      <td>1</td>\n",
       "      <td>0</td>\n",
       "      <td>0</td>\n",
       "      <td>0</td>\n",
       "      <td>3</td>\n",
       "    </tr>\n",
       "    <tr>\n",
       "      <th>4</th>\n",
       "      <td>122281</td>\n",
       "      <td>Проспект Ветеранов</td>\n",
       "      <td>Красносельский</td>\n",
       "      <td>2</td>\n",
       "      <td>9</td>\n",
       "      <td>32</td>\n",
       "      <td>1</td>\n",
       "      <td>АГЕНТСТВО НЕДВИЖИМОСТИ</td>\n",
       "      <td>1</td>\n",
       "      <td>0</td>\n",
       "      <td>...</td>\n",
       "      <td>Нет данных</td>\n",
       "      <td>1</td>\n",
       "      <td>2</td>\n",
       "      <td>[5-10]</td>\n",
       "      <td>0</td>\n",
       "      <td>1</td>\n",
       "      <td>1</td>\n",
       "      <td>0</td>\n",
       "      <td>0</td>\n",
       "      <td>3</td>\n",
       "    </tr>\n",
       "    <tr>\n",
       "      <th>...</th>\n",
       "      <td>...</td>\n",
       "      <td>...</td>\n",
       "      <td>...</td>\n",
       "      <td>...</td>\n",
       "      <td>...</td>\n",
       "      <td>...</td>\n",
       "      <td>...</td>\n",
       "      <td>...</td>\n",
       "      <td>...</td>\n",
       "      <td>...</td>\n",
       "      <td>...</td>\n",
       "      <td>...</td>\n",
       "      <td>...</td>\n",
       "      <td>...</td>\n",
       "      <td>...</td>\n",
       "      <td>...</td>\n",
       "      <td>...</td>\n",
       "      <td>...</td>\n",
       "      <td>...</td>\n",
       "      <td>...</td>\n",
       "      <td>...</td>\n",
       "    </tr>\n",
       "    <tr>\n",
       "      <th>29216</th>\n",
       "      <td>739193</td>\n",
       "      <td>Зеленогорск</td>\n",
       "      <td>Курортный</td>\n",
       "      <td>11</td>\n",
       "      <td>12</td>\n",
       "      <td>55</td>\n",
       "      <td>1</td>\n",
       "      <td>ЗАСТРОЙЩИК</td>\n",
       "      <td>0</td>\n",
       "      <td>0</td>\n",
       "      <td>...</td>\n",
       "      <td>ЖК «МФК Морская ривьера»</td>\n",
       "      <td>0</td>\n",
       "      <td>1</td>\n",
       "      <td>[11-20]</td>\n",
       "      <td>0</td>\n",
       "      <td>0</td>\n",
       "      <td>1</td>\n",
       "      <td>0</td>\n",
       "      <td>0</td>\n",
       "      <td>4</td>\n",
       "    </tr>\n",
       "    <tr>\n",
       "      <th>29217</th>\n",
       "      <td>521900</td>\n",
       "      <td>Балтийская</td>\n",
       "      <td>Адмиралтейский</td>\n",
       "      <td>2</td>\n",
       "      <td>9</td>\n",
       "      <td>62</td>\n",
       "      <td>1</td>\n",
       "      <td>ЗАСТРОЙЩИК</td>\n",
       "      <td>0</td>\n",
       "      <td>0</td>\n",
       "      <td>...</td>\n",
       "      <td>ЖК «Лермонтовский 54»</td>\n",
       "      <td>0</td>\n",
       "      <td>4</td>\n",
       "      <td>[5-10]</td>\n",
       "      <td>1</td>\n",
       "      <td>0</td>\n",
       "      <td>0</td>\n",
       "      <td>0</td>\n",
       "      <td>0</td>\n",
       "      <td>3</td>\n",
       "    </tr>\n",
       "    <tr>\n",
       "      <th>29218</th>\n",
       "      <td>155340</td>\n",
       "      <td>Гражданский проспект</td>\n",
       "      <td>Калининский</td>\n",
       "      <td>3</td>\n",
       "      <td>9</td>\n",
       "      <td>31</td>\n",
       "      <td>1</td>\n",
       "      <td>РИЕЛТОР</td>\n",
       "      <td>0</td>\n",
       "      <td>1</td>\n",
       "      <td>...</td>\n",
       "      <td>Нет данных</td>\n",
       "      <td>0</td>\n",
       "      <td>1</td>\n",
       "      <td>[5-10]</td>\n",
       "      <td>0</td>\n",
       "      <td>1</td>\n",
       "      <td>0</td>\n",
       "      <td>1</td>\n",
       "      <td>0</td>\n",
       "      <td>3</td>\n",
       "    </tr>\n",
       "    <tr>\n",
       "      <th>29219</th>\n",
       "      <td>166667</td>\n",
       "      <td>Проспект Просвещения</td>\n",
       "      <td>Выборгский</td>\n",
       "      <td>1</td>\n",
       "      <td>12</td>\n",
       "      <td>32</td>\n",
       "      <td>1</td>\n",
       "      <td>АГЕНТСТВО НЕДВИЖИМОСТИ</td>\n",
       "      <td>1</td>\n",
       "      <td>0</td>\n",
       "      <td>...</td>\n",
       "      <td>Нет данных</td>\n",
       "      <td>0</td>\n",
       "      <td>16</td>\n",
       "      <td>[11-20]</td>\n",
       "      <td>0</td>\n",
       "      <td>1</td>\n",
       "      <td>0</td>\n",
       "      <td>0</td>\n",
       "      <td>0</td>\n",
       "      <td>4</td>\n",
       "    </tr>\n",
       "    <tr>\n",
       "      <th>29220</th>\n",
       "      <td>209971</td>\n",
       "      <td>Комендантский проспект</td>\n",
       "      <td>Приморский</td>\n",
       "      <td>10</td>\n",
       "      <td>14</td>\n",
       "      <td>34</td>\n",
       "      <td>1</td>\n",
       "      <td>АГЕНТСТВО НЕДВИЖИМОСТИ</td>\n",
       "      <td>1</td>\n",
       "      <td>0</td>\n",
       "      <td>...</td>\n",
       "      <td>Нет данных</td>\n",
       "      <td>0</td>\n",
       "      <td>10</td>\n",
       "      <td>[11-20]</td>\n",
       "      <td>0</td>\n",
       "      <td>0</td>\n",
       "      <td>1</td>\n",
       "      <td>0</td>\n",
       "      <td>0</td>\n",
       "      <td>4</td>\n",
       "    </tr>\n",
       "  </tbody>\n",
       "</table>\n",
       "<p>29220 rows × 21 columns</p>\n",
       "</div>"
      ]
     },
     "execution_count": 95,
     "metadata": {},
     "output_type": "execute_result"
    }
   ],
   "execution_count": 95
  },
  {
   "metadata": {},
   "cell_type": "markdown",
   "source": "Добавление загруженности метро",
   "id": "57fe78e9c493b299"
  },
  {
   "metadata": {
    "ExecuteTime": {
     "end_time": "2025-03-26T00:52:19.469294Z",
     "start_time": "2025-03-26T00:52:19.185121Z"
    }
   },
   "cell_type": "code",
   "source": [
    "# парсим википедию с данными по каждой станции\n",
    "pass_metro_21 = 603\n",
    "pass_metro_22 = 622\n",
    "pass_metro_23 = 627\n",
    "pass_metro_24 = 686,1\n",
    "\n",
    "import requests\n",
    "from bs4 import BeautifulSoup\n",
    "import pandas as pd\n",
    "\n",
    "url = \"https://ru.wikipedia.org/wiki/%D0%9F%D0%B0%D1%81%D1%81%D0%B0%D0%B6%D0%B8%D1%80%D0%BE%D0%BF%D0%BE%D1%82%D0%BE%D0%BA_%D0%9F%D0%B5%D1%82%D0%B5%D1%80%D0%B1%D1%83%D1%80%D0%B3%D1%81%D0%BA%D0%BE%D0%B3%D0%BE_%D0%BC%D0%B5%D1%82%D1%80%D0%BE%D0%BF%D0%BE%D0%BB%D0%B8%D1%82%D0%B5%D0%BD%D0%B0\"\n",
    "response = requests.get(url)\n",
    "if response.status_code == 200:\n",
    "    soup = BeautifulSoup(response.content, \"html.parser\")\n",
    "    tables = soup.find_all(\"table\", {\"class\": \"wikitable\"})\n",
    "    all_tables_data = []\n",
    "    for table in tables:\n",
    "        headers = [th.get_text(strip=True) for th in table.find_all(\"th\")]\n",
    "        rows = []\n",
    "        for tr in table.find_all(\"tr\")[1:]:\n",
    "            cells = [td.get_text(strip=True) for td in tr.find_all(\"td\")]\n",
    "            if cells:\n",
    "                rows.append(cells)\n",
    "        if headers and rows:\n",
    "            df = pd.DataFrame(rows, columns=headers)\n",
    "            all_tables_data.append(df)\n",
    "\n",
    "    for i, df in enumerate(all_tables_data):\n",
    "        print(f\"Таблица {i + 1}:\\n\", df, \"\\n\")\n",
    "\n",
    "else:\n",
    "    print(f\"Ошибка при запросе страницы: {response.status_code}\")"
   ],
   "id": "19846a7e26851e31",
   "outputs": [
    {
     "name": "stdout",
     "output_type": "stream",
     "text": [
      "Таблица 1:\n",
      "                        Станция Средний пассажиропоток за месяц (тыс.)\n",
      "0                    Девяткино                               2142,011\n",
      "1         Гражданский проспект                               1362,634\n",
      "2                Академическая                               1289,715\n",
      "3              Политехническая                                793,694\n",
      "4             Площадь Мужества                                802,091\n",
      "5                       Лесная                                773,211\n",
      "6                   Выборгская                                928,701\n",
      "7             Площадь Ленина 1                               1192,637\n",
      "8             Площадь Ленина 2                                767,969\n",
      "9                 Чернышевская                               1379,266\n",
      "10         Площадь Восстания 1                               1294,423\n",
      "11         Площадь Восстания 2                               1451,506\n",
      "12                Владимирская                                806,363\n",
      "13                  Пушкинская                                555,807\n",
      "14  Технологический институт 1                                515,653\n",
      "15                  Балтийская                               1142,292\n",
      "16                    Нарвская                               1219,501\n",
      "17             Кировский завод                                875,225\n",
      "18                      Автово                               1221,082\n",
      "19        Ленинский проспект 1                               1077,935\n",
      "20        Ленинский проспект 2                                620,822\n",
      "21        Проспект Ветеранов 1                               1539,519\n",
      "22        Проспект Ветеранов 2                                938,424 \n",
      "\n",
      "Таблица 2:\n",
      "                        Станция Средний пассажиропоток за месяц (тыс.)\n",
      "0                       Парнас                                889,430\n",
      "1         Проспект Просвещения                               1828,245\n",
      "2                       Озерки                               1142,485\n",
      "3                     Удельная                                791,588\n",
      "4                   Пионерская                               1833,570\n",
      "5                 Чёрная речка                               1175,560\n",
      "6                Петроградская                               1732,469\n",
      "7                  Горьковская                               1154,178\n",
      "8           Невский проспект 1                                835,390\n",
      "9           Невский проспект 2                                911,292\n",
      "10              Сенная площадь                               1207,222\n",
      "11  Технологический институт 2                                905,599\n",
      "12                 Фрунзенская                                494,521\n",
      "13           Московские ворота                                689,415\n",
      "14                 Электросила                                731,341\n",
      "15                 Парк Победы                                947,683\n",
      "16                Московская 1                                847,827\n",
      "17                Московская 2                               1433,387\n",
      "18                    Звёздная                                955,965\n",
      "19                     Купчино                               2204,600 \n",
      "\n",
      "Таблица 3:\n",
      "                           Станция Средний пассажиропоток за месяц (тыс.)\n",
      "0                         Беговая                                881,622\n",
      "1                           Зенит                                301,676\n",
      "2                      Приморская                               1333,018\n",
      "3                Василеостровская                               1584,495\n",
      "4                   Гостиный двор                               1063,021\n",
      "5                      Маяковская                                776,658\n",
      "6   Площадь Александра Невского 1                                707,322\n",
      "7                    Елизаровская                                677,859\n",
      "8                   Ломоносовская                                914,138\n",
      "9                    Пролетарская                                529,366\n",
      "10                        Обухово                                271,934\n",
      "11                       Рыбацкое                                814,752 \n",
      "\n",
      "Таблица 4:\n",
      "                          Станция Средний пассажиропоток за месяц (тыс.)\n",
      "0                       Спасская                                678,099\n",
      "1                    Достоевская                                515,339\n",
      "2             Лиговский проспект                                533,455\n",
      "3  Площадь Александра Невского 2                                336,402\n",
      "4                 Новочеркасская                                884,549\n",
      "5                      Ладожская                               2381,344\n",
      "6           Проспект Большевиков                               1447,357\n",
      "7                  Улица Дыбенко                               1576,355 \n",
      "\n",
      "Таблица 5:\n",
      "                    Станция Средний пассажиропоток за месяц (тыс.)\n",
      "0   Комендантский проспект                               1436,159\n",
      "1           Старая Деревня                               1154,874\n",
      "2       Крестовский остров                                556,029\n",
      "3               Чкаловская                                756,132\n",
      "4               Спортивная                                480,108\n",
      "5     Спортивная (2 выход)                                431,088\n",
      "6           Адмиралтейская                                992,369\n",
      "7                  Садовая                                512,034\n",
      "8           Звенигородская                                475,566\n",
      "9           Обводный канал                                531,204\n",
      "10              Волковская                                171,646\n",
      "11            Бухарестская                                331,932\n",
      "12           Международная                                981,536\n",
      "13          Проспект Славы                                792,267\n",
      "14               Дунайская                                642,600\n",
      "15                  Шушары                                241,180 \n",
      "\n"
     ]
    }
   ],
   "execution_count": 96
  },
  {
   "metadata": {
    "ExecuteTime": {
     "end_time": "2025-03-26T00:52:20.074289Z",
     "start_time": "2025-03-26T00:52:20.057856Z"
    }
   },
   "cell_type": "code",
   "source": [
    "# форматируем полученные данные\n",
    "combined_df = pd.concat(all_tables_data, ignore_index=True, sort=False)\n",
    "combined_df[\"year_pass\"] = combined_df['Средний пассажиропоток за месяц (тыс.)'].str.replace(',', '.').astype(float) * 12 / 1000\n",
    "combined_df.drop('Средний пассажиропоток за месяц (тыс.)', axis=1, inplace=True)\n",
    "combined_df = combined_df.sort_values(by='year_pass', ascending=False)\n",
    "combined_df['Станция'] = combined_df['Станция'].fillna('нет данных').astype(str)\n",
    "combined_df['Станция'] = combined_df['Станция'].str.capitalize()\n",
    "combined_df['Станция'] = combined_df['Станция'].str.replace(r'\\d+', '', regex=True)\n",
    "combined_df['Станция'] = combined_df['Станция'].str.replace('ё', 'е')\n",
    "combined_df['Станция'] = combined_df['Станция'].str.replace('выход', '')\n",
    "combined_df['Станция'] = combined_df['Станция'].str.strip()\n",
    "combined_df = combined_df.groupby('Станция', as_index=False)['year_pass'].sum()\n",
    "combined_df = combined_df.sort_values(by='year_pass', ascending=False)\n",
    "combined_df['Ранг'] = combined_df['year_pass'].rank(ascending=False, method='min').astype(int)"
   ],
   "id": "10129fa5ee981ff1",
   "outputs": [],
   "execution_count": 97
  },
  {
   "metadata": {
    "ExecuteTime": {
     "end_time": "2025-03-26T00:53:38.656645Z",
     "start_time": "2025-03-26T00:53:38.616507Z"
    }
   },
   "cell_type": "code",
   "source": [
    "# добавляем к общему массиву\n",
    "rank_dict = dict(zip(combined_df['Станция'], combined_df['Ранг']))\n",
    "cian['Метро'] = cian['Метро'].str.capitalize()\n",
    "cian['Метро'] = cian['Метро'].str.replace(r'\\d+', '', regex=True)\n",
    "cian['Метро'] = cian['Метро'].str.replace('ё', 'е')\n",
    "cian['Ранг_метро'] = cian['Метро'].map(lambda x: rank_dict.get(x, 'нет информации'))\n"
   ],
   "id": "559b9bdaa0cf759d",
   "outputs": [],
   "execution_count": 100
  },
  {
   "metadata": {
    "ExecuteTime": {
     "end_time": "2025-03-26T00:55:09.825884Z",
     "start_time": "2025-03-26T00:55:09.784863Z"
    }
   },
   "cell_type": "code",
   "source": [
    "cian = cian[cian['Ранг_метро'] != 'нет информации']\n",
    "cian['Ранг_метро'] = cian['Ранг_метро'].astype(int)"
   ],
   "id": "770b6c09f3926ac6",
   "outputs": [],
   "execution_count": 103
  },
  {
   "metadata": {},
   "cell_type": "markdown",
   "source": "##### Сохранение итогового массива",
   "id": "6c5c9bc06b025ad7"
  },
  {
   "metadata": {
    "ExecuteTime": {
     "end_time": "2025-03-26T00:55:13.256795Z",
     "start_time": "2025-03-26T00:55:13.123512Z"
    }
   },
   "cell_type": "code",
   "source": "cian.to_csv(\"cian_processed.csv\", index=False, encoding=\"utf-8\")",
   "id": "2719c45394eedb51",
   "outputs": [],
   "execution_count": 104
  },
  {
   "metadata": {},
   "cell_type": "markdown",
   "source": "### Визуализация и описание данных",
   "id": "1d4488ddadd16100"
  },
  {
   "metadata": {
    "ExecuteTime": {
     "end_time": "2025-03-25T23:33:14.284766Z",
     "start_time": "2025-03-25T23:33:14.241555Z"
    }
   },
   "cell_type": "code",
   "source": [
    "cian = cian[cian['Ранг_метро'] != 'нет информации']\n",
    "cian['Ранг_метро'] = cian['Ранг_метро'].astype(float)"
   ],
   "id": "dcae8991dd0bd7fa",
   "outputs": [
    {
     "name": "stderr",
     "output_type": "stream",
     "text": [
      "/var/folders/bm/39vh_d456d388sl7tv8xtz540000gn/T/ipykernel_52264/995829932.py:2: SettingWithCopyWarning: \n",
      "A value is trying to be set on a copy of a slice from a DataFrame.\n",
      "Try using .loc[row_indexer,col_indexer] = value instead\n",
      "\n",
      "See the caveats in the documentation: https://pandas.pydata.org/pandas-docs/stable/user_guide/indexing.html#returning-a-view-versus-a-copy\n",
      "  cian['Ранг_метро'] = cian['Ранг_метро'].astype(float)\n"
     ]
    }
   ],
   "execution_count": 61
  },
  {
   "metadata": {
    "ExecuteTime": {
     "end_time": "2025-03-25T23:33:27.459200Z",
     "start_time": "2025-03-25T23:33:27.409142Z"
    }
   },
   "cell_type": "code",
   "source": [
    "pd.options.display.float_format = '{:,.0f}'.format\n",
    "cian.describe()"
   ],
   "id": "ed6259914a669937",
   "outputs": [
    {
     "data": {
      "text/plain": [
       "       Цена_за_метр  Этаж_квартиры  Этажность_здания  Площадь_помещения  \\\n",
       "count        28,325         28,325            28,325             28,325   \n",
       "mean        264,010              6                12                 61   \n",
       "std         148,818              5                 7                 42   \n",
       "min             347              1                 1                  8   \n",
       "25%         182,741              3                 6                 38   \n",
       "50%         228,117              5                10                 52   \n",
       "75%         292,647              9                16                 70   \n",
       "max       2,800,849             35                78                801   \n",
       "\n",
       "       Тип_недвижимости  Документы_проверены  Супер_агент  \\\n",
       "count            28,325               28,325       28,325   \n",
       "mean                  1                    0            0   \n",
       "std                   0                    0            0   \n",
       "min                   0                    0            0   \n",
       "25%                   1                    0            0   \n",
       "50%                   1                    0            0   \n",
       "75%                   1                    1            0   \n",
       "max                   1                    1            1   \n",
       "\n",
       "       Росреестр_проверено  Кол-во_комнат  Время_до_метро  Центральный  \\\n",
       "count               28,325         28,325          28,325       28,325   \n",
       "mean                     0              2               6            0   \n",
       "std                      0              1               6            0   \n",
       "min                      0             -1               0            0   \n",
       "25%                      0              1               1            0   \n",
       "50%                      0              2               3            0   \n",
       "75%                      0              3              11            1   \n",
       "max                      1              6              20            1   \n",
       "\n",
       "       Спальный  Прибрежный  Промышленный  Срочная_продажа  Группа_этажности  \\\n",
       "count    28,325      28,325        28,325           28,325            28,325   \n",
       "mean          0           0             0                0                 3   \n",
       "std           0           0             0                0                 1   \n",
       "min           0           0             0                0                 1   \n",
       "25%           0           0             0                0                 3   \n",
       "50%           0           0             0                0                 3   \n",
       "75%           1           1             0                0                 4   \n",
       "max           1           1             1                1                 5   \n",
       "\n",
       "       Ранг_метро  \n",
       "count      28,325  \n",
       "mean           26  \n",
       "std            19  \n",
       "min             1  \n",
       "25%            11  \n",
       "50%            20  \n",
       "75%            40  \n",
       "max            71  "
      ],
      "text/html": [
       "<div>\n",
       "<style scoped>\n",
       "    .dataframe tbody tr th:only-of-type {\n",
       "        vertical-align: middle;\n",
       "    }\n",
       "\n",
       "    .dataframe tbody tr th {\n",
       "        vertical-align: top;\n",
       "    }\n",
       "\n",
       "    .dataframe thead th {\n",
       "        text-align: right;\n",
       "    }\n",
       "</style>\n",
       "<table border=\"1\" class=\"dataframe\">\n",
       "  <thead>\n",
       "    <tr style=\"text-align: right;\">\n",
       "      <th></th>\n",
       "      <th>Цена_за_метр</th>\n",
       "      <th>Этаж_квартиры</th>\n",
       "      <th>Этажность_здания</th>\n",
       "      <th>Площадь_помещения</th>\n",
       "      <th>Тип_недвижимости</th>\n",
       "      <th>Документы_проверены</th>\n",
       "      <th>Супер_агент</th>\n",
       "      <th>Росреестр_проверено</th>\n",
       "      <th>Кол-во_комнат</th>\n",
       "      <th>Время_до_метро</th>\n",
       "      <th>Центральный</th>\n",
       "      <th>Спальный</th>\n",
       "      <th>Прибрежный</th>\n",
       "      <th>Промышленный</th>\n",
       "      <th>Срочная_продажа</th>\n",
       "      <th>Группа_этажности</th>\n",
       "      <th>Ранг_метро</th>\n",
       "    </tr>\n",
       "  </thead>\n",
       "  <tbody>\n",
       "    <tr>\n",
       "      <th>count</th>\n",
       "      <td>28,325</td>\n",
       "      <td>28,325</td>\n",
       "      <td>28,325</td>\n",
       "      <td>28,325</td>\n",
       "      <td>28,325</td>\n",
       "      <td>28,325</td>\n",
       "      <td>28,325</td>\n",
       "      <td>28,325</td>\n",
       "      <td>28,325</td>\n",
       "      <td>28,325</td>\n",
       "      <td>28,325</td>\n",
       "      <td>28,325</td>\n",
       "      <td>28,325</td>\n",
       "      <td>28,325</td>\n",
       "      <td>28,325</td>\n",
       "      <td>28,325</td>\n",
       "      <td>28,325</td>\n",
       "    </tr>\n",
       "    <tr>\n",
       "      <th>mean</th>\n",
       "      <td>264,010</td>\n",
       "      <td>6</td>\n",
       "      <td>12</td>\n",
       "      <td>61</td>\n",
       "      <td>1</td>\n",
       "      <td>0</td>\n",
       "      <td>0</td>\n",
       "      <td>0</td>\n",
       "      <td>2</td>\n",
       "      <td>6</td>\n",
       "      <td>0</td>\n",
       "      <td>0</td>\n",
       "      <td>0</td>\n",
       "      <td>0</td>\n",
       "      <td>0</td>\n",
       "      <td>3</td>\n",
       "      <td>26</td>\n",
       "    </tr>\n",
       "    <tr>\n",
       "      <th>std</th>\n",
       "      <td>148,818</td>\n",
       "      <td>5</td>\n",
       "      <td>7</td>\n",
       "      <td>42</td>\n",
       "      <td>0</td>\n",
       "      <td>0</td>\n",
       "      <td>0</td>\n",
       "      <td>0</td>\n",
       "      <td>1</td>\n",
       "      <td>6</td>\n",
       "      <td>0</td>\n",
       "      <td>0</td>\n",
       "      <td>0</td>\n",
       "      <td>0</td>\n",
       "      <td>0</td>\n",
       "      <td>1</td>\n",
       "      <td>19</td>\n",
       "    </tr>\n",
       "    <tr>\n",
       "      <th>min</th>\n",
       "      <td>347</td>\n",
       "      <td>1</td>\n",
       "      <td>1</td>\n",
       "      <td>8</td>\n",
       "      <td>0</td>\n",
       "      <td>0</td>\n",
       "      <td>0</td>\n",
       "      <td>0</td>\n",
       "      <td>-1</td>\n",
       "      <td>0</td>\n",
       "      <td>0</td>\n",
       "      <td>0</td>\n",
       "      <td>0</td>\n",
       "      <td>0</td>\n",
       "      <td>0</td>\n",
       "      <td>1</td>\n",
       "      <td>1</td>\n",
       "    </tr>\n",
       "    <tr>\n",
       "      <th>25%</th>\n",
       "      <td>182,741</td>\n",
       "      <td>3</td>\n",
       "      <td>6</td>\n",
       "      <td>38</td>\n",
       "      <td>1</td>\n",
       "      <td>0</td>\n",
       "      <td>0</td>\n",
       "      <td>0</td>\n",
       "      <td>1</td>\n",
       "      <td>1</td>\n",
       "      <td>0</td>\n",
       "      <td>0</td>\n",
       "      <td>0</td>\n",
       "      <td>0</td>\n",
       "      <td>0</td>\n",
       "      <td>3</td>\n",
       "      <td>11</td>\n",
       "    </tr>\n",
       "    <tr>\n",
       "      <th>50%</th>\n",
       "      <td>228,117</td>\n",
       "      <td>5</td>\n",
       "      <td>10</td>\n",
       "      <td>52</td>\n",
       "      <td>1</td>\n",
       "      <td>0</td>\n",
       "      <td>0</td>\n",
       "      <td>0</td>\n",
       "      <td>2</td>\n",
       "      <td>3</td>\n",
       "      <td>0</td>\n",
       "      <td>0</td>\n",
       "      <td>0</td>\n",
       "      <td>0</td>\n",
       "      <td>0</td>\n",
       "      <td>3</td>\n",
       "      <td>20</td>\n",
       "    </tr>\n",
       "    <tr>\n",
       "      <th>75%</th>\n",
       "      <td>292,647</td>\n",
       "      <td>9</td>\n",
       "      <td>16</td>\n",
       "      <td>70</td>\n",
       "      <td>1</td>\n",
       "      <td>1</td>\n",
       "      <td>0</td>\n",
       "      <td>0</td>\n",
       "      <td>3</td>\n",
       "      <td>11</td>\n",
       "      <td>1</td>\n",
       "      <td>1</td>\n",
       "      <td>1</td>\n",
       "      <td>0</td>\n",
       "      <td>0</td>\n",
       "      <td>4</td>\n",
       "      <td>40</td>\n",
       "    </tr>\n",
       "    <tr>\n",
       "      <th>max</th>\n",
       "      <td>2,800,849</td>\n",
       "      <td>35</td>\n",
       "      <td>78</td>\n",
       "      <td>801</td>\n",
       "      <td>1</td>\n",
       "      <td>1</td>\n",
       "      <td>1</td>\n",
       "      <td>1</td>\n",
       "      <td>6</td>\n",
       "      <td>20</td>\n",
       "      <td>1</td>\n",
       "      <td>1</td>\n",
       "      <td>1</td>\n",
       "      <td>1</td>\n",
       "      <td>1</td>\n",
       "      <td>5</td>\n",
       "      <td>71</td>\n",
       "    </tr>\n",
       "  </tbody>\n",
       "</table>\n",
       "</div>"
      ]
     },
     "execution_count": 62,
     "metadata": {},
     "output_type": "execute_result"
    }
   ],
   "execution_count": 62
  },
  {
   "metadata": {},
   "cell_type": "markdown",
   "source": [
    "##### Цена_за_метр \n",
    "Представляет наше целевое значение, мы специально брали цену за квадратный метр, что легко сравнивать разные сегменты рынка: \n",
    "новостройки, вторичку, элитное жильё и бюджетное. Двухкомнатная квартира в 50 м² и однокомнатная в 30 м² могут стоить одинаково \n",
    "в абсолютных ценах, но их цена за квадратный метр будет отличаться. Это позволяет корректнее анализировать рынок.\n",
    "\n",
    "##### Время_до_метро\n",
    "Чем меньше минут пешком или на транспорте, тем выше цена за м². Сильный фактор.\n",
    "\n",
    "##### Ранг_метро\n",
    "Ранг метро показывает загруженность каждой станции. Мы предполагаем если пассажиропоток на станции высокий, цена за квадратный \n",
    "метр будет ниже в этом районе.\n",
    "##### Центральный\n",
    "Центральные районы Санкт Петербурга имеют богатую историю и славятся своими старинными зданиями. В таких районах цена за \n",
    "квадратный метр должна быть выше среднего.\n",
    "\n",
    "##### Спальный\n",
    "Спальные районы имеют среднюю цену за счет плотной застройки, но в то же время высокой степени инфраструктуры.\n",
    "\n",
    "##### Прибрежный\n",
    "Прибрежные районы, к примеру курортный или петродворцовый могут иметь прямое влияние на стоимость жилья, благодаря живописным видам, финскому заливу и хорошей инфраструктуре, так как они все еще находятся в пределах границы города.\n",
    "\n",
    "##### Промышленные зоны\n",
    "Обычно цена ниже на недвижимость в таких районах из-за шума, загрязненности воздуха и тд.\n",
    "\n",
    "##### Этаж_квартиры\n",
    "Средние этажи обычно дороже, чем первые и последние (из-за удобства и вида).\n",
    "\n",
    "##### Этажность_здания\n",
    "Новостройки в спальных районах в основном высокоэтажные, а в центре и курортных районах по большей части малоэтажная застройка. \n",
    "Можно предположить, что цена на высокоэтажные здания будет ниже.\n",
    "\n",
    "##### Площадь_помещения\n",
    "Влияет на цену за м² нелинейно. Маленькие квартиры (студии, 1-комнатные) обычно дороже за м², чем большие.\n",
    "\n",
    "##### Кол-во_комнат\n",
    "Меньше комнат → выше цена за м², больше комнат → дешевле за м² (но дороже в абсолютном значении).\n",
    "\n",
    "'-1' - свободная планировка\n",
    "\n",
    "'0' - студия\n",
    "\n",
    "'1-6' - соответсвует кол-ву комнат.\n",
    "\n",
    "##### Тип_недвижимости\n",
    "0 - апартаменты. 1- квартира. Мы предполагаем, что квадратный метр квартиры будет стоить дешевле квадратного метра апартаментов. Так как в основном апартаменты располагаются в центре (апартаменты Castle сенная), либо в спальных районах, но очень близко к метро (апартаменты Y'es).\n",
    "\n",
    "##### Документы_проверены, Росреестр_проверено \n",
    "Если документы проверены, риск ниже → цена выше.\n",
    "\n",
    "##### Супер_агент\n",
    "Если объявление от проверенного агента, возможно, цена выше. Оценивается ЦИАН\n",
    "\n",
    "##### Срочная_продажа\n",
    "Если срочно, то цена за м² будет ниже, так как продавец хочет быстрее продать.\n",
    "\n",
    "##### Группа_этажности, Группы_этажности \n",
    "Факторы, которые мы добавили для проверки гипотез, связанных с этажностью.\n"
   ],
   "id": "a569a3778657fc3d"
  },
  {
   "metadata": {
    "ExecuteTime": {
     "end_time": "2025-03-25T23:34:58.921564Z",
     "start_time": "2025-03-25T23:34:58.891987Z"
    }
   },
   "cell_type": "code",
   "source": "cian[\"Тип_недвижимости\"].value_counts()",
   "id": "a34609587cc55784",
   "outputs": [
    {
     "data": {
      "text/plain": [
       "Документы_проверены\n",
       "0    15223\n",
       "1    13102\n",
       "Name: count, dtype: int64"
      ]
     },
     "execution_count": 64,
     "metadata": {},
     "output_type": "execute_result"
    }
   ],
   "execution_count": 64
  },
  {
   "metadata": {
    "ExecuteTime": {
     "end_time": "2025-03-25T23:35:09.699983Z",
     "start_time": "2025-03-25T23:35:09.693966Z"
    }
   },
   "cell_type": "code",
   "source": "cian[\"Документы_проверены\"].value_counts()",
   "id": "52d793204a76bbc2",
   "outputs": [
    {
     "data": {
      "text/plain": [
       "Документы_проверены\n",
       "0    15223\n",
       "1    13102\n",
       "Name: count, dtype: int64"
      ]
     },
     "execution_count": 66,
     "metadata": {},
     "output_type": "execute_result"
    }
   ],
   "execution_count": 66
  },
  {
   "metadata": {
    "ExecuteTime": {
     "end_time": "2025-03-25T23:35:16.541263Z",
     "start_time": "2025-03-25T23:35:16.529149Z"
    }
   },
   "cell_type": "code",
   "source": "cian[\"Кол-во_комнат\"].value_counts()",
   "id": "61a02d545c5f117d",
   "outputs": [
    {
     "data": {
      "text/plain": [
       "Кол-во_комнат\n",
       " 2    8053\n",
       " 1    7676\n",
       " 3    5852\n",
       " 0    4652\n",
       " 4    1295\n",
       " 5     386\n",
       " 6     304\n",
       "-1     107\n",
       "Name: count, dtype: int64"
      ]
     },
     "execution_count": 67,
     "metadata": {},
     "output_type": "execute_result"
    }
   ],
   "execution_count": 67
  },
  {
   "metadata": {
    "ExecuteTime": {
     "end_time": "2025-03-25T23:35:24.788870Z",
     "start_time": "2025-03-25T23:35:24.769941Z"
    }
   },
   "cell_type": "code",
   "source": "cian[\"Супер_агент\"].value_counts()",
   "id": "d15e3dfe9b9bc802",
   "outputs": [
    {
     "data": {
      "text/plain": [
       "Супер_агент\n",
       "0    22572\n",
       "1     5753\n",
       "Name: count, dtype: int64"
      ]
     },
     "execution_count": 68,
     "metadata": {},
     "output_type": "execute_result"
    }
   ],
   "execution_count": 68
  },
  {
   "metadata": {
    "ExecuteTime": {
     "end_time": "2025-03-25T23:35:40.667609Z",
     "start_time": "2025-03-25T23:35:40.648140Z"
    }
   },
   "cell_type": "code",
   "source": "cian[\"Росреестр_проверено\"].value_counts()",
   "id": "9334b7ca74bc0d44",
   "outputs": [
    {
     "data": {
      "text/plain": [
       "Росреестр_проверено\n",
       "0    22379\n",
       "1     5946\n",
       "Name: count, dtype: int64"
      ]
     },
     "execution_count": 69,
     "metadata": {},
     "output_type": "execute_result"
    }
   ],
   "execution_count": 69
  },
  {
   "metadata": {
    "ExecuteTime": {
     "end_time": "2025-03-25T23:35:49.803789Z",
     "start_time": "2025-03-25T23:35:49.792524Z"
    }
   },
   "cell_type": "code",
   "source": "cian[\"Срочная_продажа\"].value_counts()",
   "id": "3d1f07ab7fa8898",
   "outputs": [
    {
     "data": {
      "text/plain": [
       "Срочная_продажа\n",
       "0    28029\n",
       "1      296\n",
       "Name: count, dtype: int64"
      ]
     },
     "execution_count": 70,
     "metadata": {},
     "output_type": "execute_result"
    }
   ],
   "execution_count": 70
  },
  {
   "metadata": {
    "ExecuteTime": {
     "end_time": "2025-03-25T23:37:14.727811Z",
     "start_time": "2025-03-25T23:37:13.690670Z"
    }
   },
   "cell_type": "code",
   "source": [
    "import matplotlib.pyplot as plt\n",
    "import seaborn as sns\n",
    "import matplotlib.ticker as ticker\n",
    "\n",
    "# Список категориальных столбцов\n",
    "columns = [\"Кол-во_комнат\", \"Тип_недвижимости\", \"Документы_проверены\", \n",
    "           \"Супер_агент\", \"Росреестр_проверено\", \"Срочная_продажа\"]\n",
    "\n",
    "# Создаём графики\n",
    "for col in columns:\n",
    "    plt.figure(figsize=(10, 5))\n",
    "\n",
    "    # 1. Гистограмма (bar chart)\n",
    "    plt.subplot(1, 2, 1)\n",
    "    sns.countplot(x=cian[col], palette=\"coolwarm\")\n",
    "    plt.xticks(rotation=45)\n",
    "    plt.title(f\"Распределение {col}\")\n",
    "\n",
    "    # 2. Круговая диаграмма (pie chart)\n",
    "    plt.subplot(1, 2, 2)\n",
    "    cian[col].value_counts().plot(kind=\"pie\", autopct=\"%.1f%%\", colors=sns.color_palette(\"coolwarm\", len(cian[col].unique())))\n",
    "    plt.ylabel(\"\")\n",
    "    plt.title(f\"Процентное соотношение {col}\")\n",
    "\n",
    "    plt.show()"
   ],
   "id": "adac7d78605ec8b6",
   "outputs": [
    {
     "name": "stderr",
     "output_type": "stream",
     "text": [
      "/var/folders/bm/39vh_d456d388sl7tv8xtz540000gn/T/ipykernel_52264/3068561441.py:15: FutureWarning: \n",
      "\n",
      "Passing `palette` without assigning `hue` is deprecated and will be removed in v0.14.0. Assign the `x` variable to `hue` and set `legend=False` for the same effect.\n",
      "\n",
      "  sns.countplot(x=cian[col], palette=\"coolwarm\")\n"
     ]
    },
    {
     "data": {
      "text/plain": [
       "<Figure size 1000x500 with 2 Axes>"
      ],
      "image/png": "[encoded data removed]"
     },
     "metadata": {},
     "output_type": "display_data"
    },
    {
     "name": "stderr",
     "output_type": "stream",
     "text": [
      "/var/folders/bm/39vh_d456d388sl7tv8xtz540000gn/T/ipykernel_52264/3068561441.py:15: FutureWarning: \n",
      "\n",
      "Passing `palette` without assigning `hue` is deprecated and will be removed in v0.14.0. Assign the `x` variable to `hue` and set `legend=False` for the same effect.\n",
      "\n",
      "  sns.countplot(x=cian[col], palette=\"coolwarm\")\n"
     ]
    },
    {
     "data": {
      "text/plain": [
       "<Figure size 1000x500 with 2 Axes>"
      ],
      "image/png": "[encoded data removed]"
     },
     "metadata": {},
     "output_type": "display_data"
    },
    {
     "name": "stderr",
     "output_type": "stream",
     "text": [
      "/var/folders/bm/39vh_d456d388sl7tv8xtz540000gn/T/ipykernel_52264/3068561441.py:15: FutureWarning: \n",
      "\n",
      "Passing `palette` without assigning `hue` is deprecated and will be removed in v0.14.0. Assign the `x` variable to `hue` and set `legend=False` for the same effect.\n",
      "\n",
      "  sns.countplot(x=cian[col], palette=\"coolwarm\")\n"
     ]
    },
    {
     "data": {
      "text/plain": [
       "<Figure size 1000x500 with 2 Axes>"
      ],
      "image/png": "[encoded data removed]"
     },
     "metadata": {},
     "output_type": "display_data"
    },
    {
     "name": "stderr",
     "output_type": "stream",
     "text": [
      "/var/folders/bm/39vh_d456d388sl7tv8xtz540000gn/T/ipykernel_52264/3068561441.py:15: FutureWarning: \n",
      "\n",
      "Passing `palette` without assigning `hue` is deprecated and will be removed in v0.14.0. Assign the `x` variable to `hue` and set `legend=False` for the same effect.\n",
      "\n",
      "  sns.countplot(x=cian[col], palette=\"coolwarm\")\n"
     ]
    },
    {
     "data": {
      "text/plain": [
       "<Figure size 1000x500 with 2 Axes>"
      ],
      "image/png": "[encoded data removed]"
     },
     "metadata": {},
     "output_type": "display_data"
    },
    {
     "name": "stderr",
     "output_type": "stream",
     "text": [
      "/var/folders/bm/39vh_d456d388sl7tv8xtz540000gn/T/ipykernel_52264/3068561441.py:15: FutureWarning: \n",
      "\n",
      "Passing `palette` without assigning `hue` is deprecated and will be removed in v0.14.0. Assign the `x` variable to `hue` and set `legend=False` for the same effect.\n",
      "\n",
      "  sns.countplot(x=cian[col], palette=\"coolwarm\")\n"
     ]
    },
    {
     "data": {
      "text/plain": [
       "<Figure size 1000x500 with 2 Axes>"
      ],
      "image/png": "[encoded data removed]"
     },
     "metadata": {},
     "output_type": "display_data"
    },
    {
     "name": "stderr",
     "output_type": "stream",
     "text": [
      "/var/folders/bm/39vh_d456d388sl7tv8xtz540000gn/T/ipykernel_52264/3068561441.py:15: FutureWarning: \n",
      "\n",
      "Passing `palette` without assigning `hue` is deprecated and will be removed in v0.14.0. Assign the `x` variable to `hue` and set `legend=False` for the same effect.\n",
      "\n",
      "  sns.countplot(x=cian[col], palette=\"coolwarm\")\n"
     ]
    },
    {
     "data": {
      "text/plain": [
       "<Figure size 1000x500 with 2 Axes>"
      ],
      "image/png": "[encoded data removed]"
     },
     "metadata": {},
     "output_type": "display_data"
    }
   ],
   "execution_count": 73
  },
  {
   "metadata": {
    "ExecuteTime": {
     "end_time": "2025-03-25T23:37:19.215367Z",
     "start_time": "2025-03-25T23:37:19.083891Z"
    }
   },
   "cell_type": "code",
   "source": [
    "# Violin plot (плотность цен)\n",
    "\n",
    "plt.figure(figsize=(12, 5))\n",
    "plt.subplot(1, 3, 2)\n",
    "sns.violinplot(x=cian[\"Кол-во_комнат\"], y=cian[\"Цена_за_метр\"], palette=\"coolwarm\")\n",
    "plt.title(\"Плотность цен за м² по кол-ву комнат\")\n",
    "plt.gca().yaxis.set_major_formatter(ticker.StrMethodFormatter('{x:,.0f}'))"
   ],
   "id": "9fab01b7ba073faf",
   "outputs": [
    {
     "name": "stderr",
     "output_type": "stream",
     "text": [
      "/var/folders/bm/39vh_d456d388sl7tv8xtz540000gn/T/ipykernel_52264/460034123.py:5: FutureWarning: \n",
      "\n",
      "Passing `palette` without assigning `hue` is deprecated and will be removed in v0.14.0. Assign the `x` variable to `hue` and set `legend=False` for the same effect.\n",
      "\n",
      "  sns.violinplot(x=cian[\"Кол-во_комнат\"], y=cian[\"Цена_за_метр\"], palette=\"coolwarm\")\n"
     ]
    },
    {
     "data": {
      "text/plain": [
       "<Figure size 1200x500 with 1 Axes>"
      ],
      "image/png": "[encoded data removed]"
     },
     "metadata": {},
     "output_type": "display_data"
    }
   ],
   "execution_count": 74
  },
  {
   "metadata": {},
   "cell_type": "markdown",
   "source": [
    "По графику мы видим, что каждый раздел кол-ва комнат имеет огромные выбросы (в основном выше 75 перцентиля), скорее всего это связано с тем, что Санкт \n",
    "Петербург - большой мегаполис, где встречаются очень престижные ЖК, которые мы видим на графике."
   ],
   "id": "ccc236b13d227b6b"
  },
  {
   "metadata": {},
   "cell_type": "code",
   "outputs": [],
   "execution_count": null,
   "source": "",
   "id": "df04088fec9b30a8"
  }
 ],
 "metadata": {
  "kernelspec": {
   "display_name": "Python 3",
   "language": "python",
   "name": "python3"
  },
  "language_info": {
   "codemirror_mode": {
    "name": "ipython",
    "version": 2
   },
   "file_extension": ".py",
   "mimetype": "text/x-python",
   "name": "python",
   "nbconvert_exporter": "python",
   "pygments_lexer": "ipython2",
   "version": "2.7.6"
  }
 },
 "nbformat": 4,
 "nbformat_minor": 5
}
